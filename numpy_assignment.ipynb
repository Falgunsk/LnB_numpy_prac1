{
 "cells": [
  {
   "cell_type": "code",
   "execution_count": 2,
   "id": "cc453436",
   "metadata": {},
   "outputs": [
    {
     "name": "stdout",
     "output_type": "stream",
     "text": [
      "[1 2 4 5 7 8]\n"
     ]
    }
   ],
   "source": [
    "import numpy as np\n",
    "#1\n",
    "list1 = [1,2,4,5,7,8]\n",
    "array1 = np.array(list1)\n",
    "print(array1)"
   ]
  },
  {
   "cell_type": "code",
   "execution_count": 28,
   "id": "a0d59cba",
   "metadata": {},
   "outputs": [
    {
     "name": "stdout",
     "output_type": "stream",
     "text": [
      "[ 7.          7.46666667  7.93333333  8.4         8.86666667  9.33333333\n",
      "  9.8        10.26666667 10.73333333 11.2        11.66666667 12.13333333\n",
      " 12.6        13.06666667 13.53333333 14.        ] \n",
      "\n",
      "\n",
      "[[ 7.          7.46666667  7.93333333  8.4       ]\n",
      " [ 8.86666667  9.33333333  9.8        10.26666667]\n",
      " [10.73333333 11.2        11.66666667 12.13333333]\n",
      " [12.6        13.06666667 13.53333333 14.        ]]\n"
     ]
    }
   ],
   "source": [
    "#2\n",
    "array2 = np.linspace(7,14,16)\n",
    "print(array2,\"\\n\\n\")\n",
    "array2 = array2.reshape(4,4)\n",
    "print(array2)\n",
    "#array2 = array2.shape(4,4)\n",
    "#print(array2)"
   ]
  },
  {
   "cell_type": "code",
   "execution_count": 37,
   "id": "240e300e",
   "metadata": {},
   "outputs": [
    {
     "name": "stdout",
     "output_type": "stream",
     "text": [
      "[ 1  2  4  5  7  8 11 22]\n"
     ]
    }
   ],
   "source": [
    "#7\n",
    "array7 = np.append(array1,[11,22])\n",
    "print(array7)"
   ]
  },
  {
   "cell_type": "code",
   "execution_count": 40,
   "id": "cc41ec44",
   "metadata": {},
   "outputs": [
    {
     "name": "stdout",
     "output_type": "stream",
     "text": [
      "[8 7 5 4 2 1]\n"
     ]
    }
   ],
   "source": [
    "#4\n",
    "array4 = np.flip(array1)\n",
    "print(array4)"
   ]
  },
  {
   "cell_type": "code",
   "execution_count": null,
   "id": "c42201c3",
   "metadata": {},
   "outputs": [],
   "source": []
  }
 ],
 "metadata": {
  "kernelspec": {
   "display_name": "Python 3 (ipykernel)",
   "language": "python",
   "name": "python3"
  },
  "language_info": {
   "codemirror_mode": {
    "name": "ipython",
    "version": 3
   },
   "file_extension": ".py",
   "mimetype": "text/x-python",
   "name": "python",
   "nbconvert_exporter": "python",
   "pygments_lexer": "ipython3",
   "version": "3.9.12"
  }
 },
 "nbformat": 4,
 "nbformat_minor": 5
}
